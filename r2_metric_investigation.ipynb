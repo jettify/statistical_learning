{
 "cells": [
  {
   "cell_type": "code",
   "execution_count": 39,
   "metadata": {},
   "outputs": [],
   "source": [
    "import matplotlib.pyplot as plt\n",
    "import numpy as np\n",
    "from sklearn import datasets, linear_model\n",
    "from sklearn.metrics import mean_squared_error, r2_score\n",
    "from sklearn.model_selection import train_test_split"
   ]
  },
  {
   "cell_type": "code",
   "execution_count": 59,
   "metadata": {},
   "outputs": [
    {
     "name": "stdout",
     "output_type": "stream",
     "text": [
      "(2250, 1)\n",
      "Estimated Coefficients: 39.8497649800349 25.647751969200723\n",
      "True Coefficients: 38.179385583489335 25\n",
      "Mean squared error: 4338.667432416638\n",
      "R2: 0.2120\n",
      "MSE: 4338.6674\n"
     ]
    },
    {
     "data": {
      "image/png": "[encoded data removed]",
      "text/plain": [
       "<matplotlib.figure.Figure at 0x1117c58d0>"
      ]
     },
     "metadata": {},
     "output_type": "display_data"
    }
   ],
   "source": [
    "n_samples = 3000\n",
    "bias = 25\n",
    "seed=2\n",
    "X, y, coef = datasets.make_regression(\n",
    "    n_samples=n_samples, n_features=1,\n",
    "    n_informative=1, noise=70,\n",
    "    coef=True, random_state=seed, bias=bias,)\n",
    "\n",
    "X_train, X_test, y_train, y_test = \\\n",
    "    train_test_split(X, y, test_size=0.25, random_state=seed)\n",
    "    \n",
    "print(X_train.shape)  \n",
    "regr = linear_model.LinearRegression()\n",
    "\n",
    "regr.fit(X_train, y_train)\n",
    "y_pred = regr.predict(X_test)\n",
    "\n",
    "R2 = r2_score(y_test, y_pred)\n",
    "MSE =  mean_squared_error(y_test, y_pred)\n",
    "print(\"Estimated Coefficients: {} {}\".format(regr.coef_[0], regr.intercept_))\n",
    "print(\"True Coefficients: {} {}\".format(coef, bias))\n",
    "print(\"Mean squared error: {}\".format(MSE))\n",
    "\n",
    "print('R2: {:.4f}'.format(R2))\n",
    "print('MSE: {:.4f}'.format(MSE))\n",
    "\n",
    "\n",
    "# Plot outputs\n",
    "plt.scatter(X_test, y_test,  color='red')\n",
    "plt.plot(X_test, y_pred, color='blue', linewidth=3)\n",
    "\n",
    "\n",
    "plt.show()"
   ]
  },
  {
   "cell_type": "code",
   "execution_count": 29,
   "metadata": {},
   "outputs": [],
   "source": [
    "\n",
    "def true_fun(x):\n",
    "    return (x - 1) ** 2\n",
    "\n",
    "n_samples = 200\n",
    "X = np.random.exponential(2, n_samples).reshape(-1,1)\n",
    "\n",
    "y = true_fun(X) + (np.random.randn(n_samples) * 0.9).reshape(-1,1)\n",
    "\n",
    "X_train, X_test, y_train, y_test = \\\n",
    "    train_test_split(X, y, test_size=0.5, random_state=42)"
   ]
  },
  {
   "cell_type": "code",
   "execution_count": 6,
   "metadata": {},
   "outputs": [
    {
     "data": {
      "image/png": "[encoded data removed]",
      "text/plain": [
       "<matplotlib.figure.Figure at 0x115e3d978>"
      ]
     },
     "metadata": {},
     "output_type": "display_data"
    }
   ],
   "source": [
    "plt.scatter(X, y,  color='red')\n",
    "regr = linear_model.LinearRegression()\n",
    "regr.fit(X_train, y_train)\n",
    "y_pred = regr.predict(X_test)\n",
    "plt.plot(X_test, y_pred, color='blue', linewidth=2)\n",
    "plt.show()\n"
   ]
  },
  {
   "cell_type": "code",
   "execution_count": 7,
   "metadata": {},
   "outputs": [
    {
     "name": "stdout",
     "output_type": "stream",
     "text": [
      "Estimated Coefficients: [[3.26155954]]\n",
      "True Coefficients: 96.19363785472291\n",
      "Mean squared error: 26.21310003158723\n",
      "R2: 0.7288\n",
      "MSE: 26.2131\n"
     ]
    }
   ],
   "source": [
    "R2 = r2_score(y_test, y_pred)\n",
    "\n",
    "MSE =  mean_squared_error(y_test, y_pred)\n",
    "\n",
    "print(\"Estimated Coefficients: {}\".format(regr.coef_))\n",
    "print(\"True Coefficients: {}\".format(coef))\n",
    "print(\"Mean squared error: {}\".format(MSE))\n",
    "\n",
    "# Explained variance score: 1 is perfect prediction\n",
    "print('R2: {:.4f}'.format(R2))\n",
    "print('MSE: {:.4f}'.format(MSE))\n"
   ]
  },
  {
   "cell_type": "code",
   "execution_count": null,
   "metadata": {},
   "outputs": [],
   "source": []
  },
  {
   "cell_type": "code",
   "execution_count": null,
   "metadata": {},
   "outputs": [],
   "source": []
  },
  {
   "cell_type": "code",
   "execution_count": null,
   "metadata": {},
   "outputs": [],
   "source": []
  }
 ],
 "metadata": {
  "kernelspec": {
   "display_name": "Python 3",
   "language": "python",
   "name": "python3"
  },
  "language_info": {
   "codemirror_mode": {
    "name": "ipython",
    "version": 3
   },
   "file_extension": ".py",
   "mimetype": "text/x-python",
   "name": "python",
   "nbconvert_exporter": "python",
   "pygments_lexer": "ipython3",
   "version": "3.6.4"
  }
 },
 "nbformat": 4,
 "nbformat_minor": 2
}
